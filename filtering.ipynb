{
 "cells": [
  {
   "cell_type": "code",
   "execution_count": 2,
   "id": "93a02893",
   "metadata": {},
   "outputs": [],
   "source": [
    "import numpy as np\n",
    "import vtk\n",
    "from vtk.util.numpy_support import vtk_to_numpy, numpy_to_vtk\n",
    "from ipyvtklink.viewer import ViewInteractiveWidget"
   ]
  },
  {
   "cell_type": "code",
   "execution_count": 3,
   "id": "e56fe430",
   "metadata": {},
   "outputs": [],
   "source": [
    "thrx_path = \"/home/mahsadibaji/mdsc689-03-notebooks/Thorax\"\n",
    "head_gauss_path = \"/home/mahsadibaji/mdsc689-03-notebooks/headGaussian.nii\"\n",
    "head_saltpepper_path = \"/home/mahsadibaji/mdsc689-03-notebooks/headSaltPepper.nii\""
   ]
  },
  {
   "cell_type": "code",
   "execution_count": 23,
   "id": "2875337b",
   "metadata": {},
   "outputs": [],
   "source": [
    "class vtk_pipeline:\n",
    "    \n",
    "    def __init__(self, path, filetype,window, level, zslice, render_size = 300):\n",
    "        self.path = path\n",
    "        self.filetype = filetype\n",
    "        self.window = window\n",
    "        self.level = level\n",
    "        self.render_size = render_size\n",
    "        self.slice = zslice\n",
    "        \n",
    "        self.out = None\n",
    "        self.dim = None\n",
    "        self.img_np = None\n",
    "        self.image_reader()\n",
    "        \n",
    "        self.gauss_filtered_img = None\n",
    "        self.median_filtered_img = None\n",
    "        \n",
    "        self.resizers = {}\n",
    "        self.mappers = {}\n",
    "        self.actors = {}\n",
    "        \n",
    "        self.renderer = None\n",
    "        self.render_window = None\n",
    "        self.interactor = None\n",
    "        \n",
    "    def image_reader(self):   \n",
    "        if self.filetype.lower() == 'dicom':  # Load a DICOM image from file into a vtk pipeline.\n",
    "            img_reader = vtk.vtkDICOMImageReader()\n",
    "            img_reader.SetDirectoryName(self.path)\n",
    "            img_reader.Update()\n",
    "            self.out = img_reader.GetOutput()\n",
    "            self.dim = self.out.GetDimensions()\n",
    "            \n",
    "        elif self.filetype.lower() == 'niftii': # Load a NIFTI image from file into a vtk pipeline.\n",
    "            img_reader = vtk.vtkNIFTIImageReader()\n",
    "            img_reader.SetFileName(self.path)\n",
    "            img_reader.Update()\n",
    "            self.out = img_reader.GetOutput()\n",
    "            self.dim = self.out.GetDimensions()\n",
    "            \n",
    "        self.img_np = vtk_to_numpy(self.out.GetPointData().GetScalars()).reshape(self.dim,order='F')\n",
    "            \n",
    "    def gaussian_filtering(self):\n",
    "        \n",
    "        kernel = np.array([[[1, 2, 1], [2, 4, 2], [1, 2, 1]], [[2, 4, 2], [4, 16, 4], [2, 4, 2]], [[1, 2, 1], [2, 4,\n",
    "        2], [1, 2, 1]]],dtype=np.float32)\n",
    "        kernel /= kernel.sum()\n",
    "        \n",
    "        padded = np.pad(self.img_np, [(1, 1), (1, 1), (1, 1)], mode='constant', constant_values = 0) #padded by width 1 with zeros\n",
    "\n",
    "        gauss_filtered_np = np.zeros_like(self.img_np)\n",
    "        \n",
    "        for i in range(1,padded.shape[0]-1):\n",
    "            for j in range(1,padded.shape[1]-1):\n",
    "                for k in range(1,padded.shape[2]-1):\n",
    "                        gauss_filtered_np[i-1,j-1,k-1] = np.sum((kernel*padded[i-1:i+2,j-1:j+2,k-1:k+2]))\n",
    "        \n",
    "        self.gauss_filtered_img = vtk.vtkImageData()\n",
    "        self.gauss_filtered_img.DeepCopy(self.out) # here is how to copy a vtkImageData\n",
    "        self.gauss_filtered_img.GetPointData().SetScalars(numpy_to_vtk(num_array = gauss_filtered_np.ravel(order = 'F'), deep = True))\n",
    "        \n",
    "    def median_filtering(self):\n",
    "        \n",
    "        median_filtered_np = np.zeros_like(self.img_np)\n",
    "        \n",
    "        padded = np.pad(self.img_np, [(1, 1), (1, 1), (1, 1)], mode='constant')\n",
    "\n",
    "        for i in range(1,padded.shape[0]-1):\n",
    "            for j in range(1,padded.shape[1]-1):\n",
    "                for k in range(1,padded.shape[2]-1):\n",
    "                    median_filtered_np[i-1,j-1,k-1] = np.median(padded[i-1:i+2,j-1:j+2,k-1:k+2].ravel())\n",
    "\n",
    "        self.median_filtered_img = vtk.vtkImageData()\n",
    "        self.median_filtered_img.DeepCopy(self.out) # here is how to copy a vtkImageData\n",
    "        self.median_filtered_img.GetPointData().SetScalars(numpy_to_vtk(num_array = median_filtered_np.ravel(order = 'F'), deep = True))\n",
    "        \n",
    "    def create_mousewheel_callbacks(self,mapper):\n",
    "        \n",
    "        def move_forward(obj=None,event=None):\n",
    "            mapper.SetZSlice(mapper.GetZSlice()+1)\n",
    "\n",
    "        def move_backward(obj=None,event=None):\n",
    "            mapper.SetZSlice(mapper.GetZSlice()-1)\n",
    "\n",
    "        return move_forward, move_backward\n",
    "            \n",
    "    def create_resizer_mapper_actor(self,data_output):\n",
    "\n",
    "        resizer = vtk.vtkImageResize()\n",
    "        resizer.SetInputData(data_output)\n",
    "        resizer.Update()\n",
    "\n",
    "        original_dims = np.asarray(resizer.GetOutput().GetDimensions())\n",
    "        new_dims = list( (original_dims*(self.render_size/original_dims[0:1].max())).astype(int) )\n",
    "\n",
    "        resizer.SetOutputDimensions(*new_dims)\n",
    "\n",
    "        mapper = vtk.vtkImageMapper()\n",
    "        mapper.SetInputData(resizer.GetOutput())\n",
    "        mapper.SetColorWindow(self.window)\n",
    "        mapper.SetColorLevel(self.level)\n",
    "        mapper.SetZSlice(self.slice)\n",
    "\n",
    "        actor = vtk.vtkActor2D()\n",
    "        actor.SetMapper(mapper)\n",
    "\n",
    "        return resizer, mapper, actor\n",
    "            \n",
    "    def render(self,filter_type = None):\n",
    "        \n",
    "        self.resizers[\"image\"], self.mappers[\"image\"], self.actors['image'] = self.create_resizer_mapper_actor(self.out)\n",
    "        print(\"image actor created\")\n",
    "\n",
    "        if filter_type.lower() == \"gaussian\":\n",
    "            self.gaussian_filtering()\n",
    "            print(\"gaussian filter applied\")\n",
    "            self.resizers[\"filtered\"], self.mappers['filtered'], self.actors['filtered'] = self.create_resizer_mapper_actor(self.gauss_filtered_img)\n",
    "            print(\"filter actor created\")\n",
    "        elif filter_type.lower() == \"median\":\n",
    "            self.median_filtering()\n",
    "            print(\"median filter applied\")\n",
    "            self.resizers[\"filtered\"], self.mappers['filtered'], self.actors['filtered'] = self.create_resizer_mapper_actor(self.median_filtered_img)\n",
    "            print(\"filter actor created\")\n",
    "    \n",
    "        \n",
    "        self.render_window = vtk.vtkRenderWindow()\n",
    "        self.render_window.SetOffScreenRendering(True)\n",
    "        self.render_window.SetSize(self.render_size*2, self.render_size)\n",
    "\n",
    "        self.renderer = vtk.vtkRenderer()\n",
    "        self.renderer.ResetCamera()        \n",
    "        self.render_window.AddRenderer(self.renderer)\n",
    "\n",
    "        self.interactor = vtk.vtkRenderWindowInteractor()\n",
    "        self.interactor.SetRenderWindow(self.render_window)\n",
    "        \n",
    "        offset = 0\n",
    "        for actor in self.actors.values():\n",
    "            self.renderer.AddActor(actor)\n",
    "            actor.GetPositionCoordinate().SetValue(offset, 0)\n",
    "            offset+=self.render_size\n",
    "            \n",
    "        \n",
    "        # add callbacks to the interactor\n",
    "        for mapper in self.mappers.values():\n",
    "            fwd, bwd = self.create_mousewheel_callbacks(mapper)\n",
    "            self.interactor.AddObserver('MouseWheelForwardEvent', fwd)\n",
    "            self.interactor.AddObserver('MouseWheelBackwardEvent', bwd)\n",
    "            \n",
    "        self.render_window.Render()\n",
    "        self.interactor.Initialize()"
   ]
  },
  {
   "cell_type": "markdown",
   "id": "b8bf2015",
   "metadata": {},
   "source": [
    "# Experiments"
   ]
  },
  {
   "cell_type": "markdown",
   "id": "bb527883",
   "metadata": {},
   "source": [
    "## HeadGaussian with Gaussian filter"
   ]
  },
  {
   "cell_type": "code",
   "execution_count": 17,
   "id": "db54e6df",
   "metadata": {},
   "outputs": [
    {
     "name": "stdout",
     "output_type": "stream",
     "text": [
      "image actor created\n",
      "gaussian filter applied\n",
      "filter actor created\n"
     ]
    },
    {
     "data": {
      "application/vnd.jupyter.widget-view+json": {
       "model_id": "7d716a5b2d7f4543af9a1f63c90e767b",
       "version_major": 2,
       "version_minor": 0
      },
      "text/plain": [
       "ViewInteractiveWidget(height=300, layout=Layout(height='auto', width='100%'), width=600)"
      ]
     },
     "metadata": {},
     "output_type": "display_data"
    }
   ],
   "source": [
    "head_gauss_g = vtk_pipeline(path=head_gauss_path, filetype='niftii', window=1000, level=700, zslice=150, render_size=300)\n",
    "head_gauss_g.render(filter_type=\"gaussian\")\n",
    "ViewInteractiveWidget(head_gauss_g.render_window)"
   ]
  },
  {
   "cell_type": "markdown",
   "id": "74498bda",
   "metadata": {},
   "source": [
    "Gaussian filter applied - window: 1000 - level: 700 - slice: 150"
   ]
  },
  {
   "cell_type": "markdown",
   "id": "da0978b0",
   "metadata": {},
   "source": [
    "## HeadGaussian with Median filter"
   ]
  },
  {
   "cell_type": "code",
   "execution_count": 18,
   "id": "1e41d6b8",
   "metadata": {},
   "outputs": [
    {
     "name": "stdout",
     "output_type": "stream",
     "text": [
      "image actor created\n",
      "median filter applied\n",
      "filter actor created\n"
     ]
    },
    {
     "data": {
      "application/vnd.jupyter.widget-view+json": {
       "model_id": "fbf41c6bf8bf4883aad472048635fdec",
       "version_major": 2,
       "version_minor": 0
      },
      "text/plain": [
       "ViewInteractiveWidget(height=300, layout=Layout(height='auto', width='100%'), width=600)"
      ]
     },
     "metadata": {},
     "output_type": "display_data"
    }
   ],
   "source": [
    "head_gauss_m = vtk_pipeline(path=head_gauss_path, filetype='niftii', window=1000, level=700, zslice=150, render_size=300)\n",
    "head_gauss_m.render(filter_type=\"median\")\n",
    "ViewInteractiveWidget(head_gauss_m.render_window)"
   ]
  },
  {
   "cell_type": "markdown",
   "id": "3841112e",
   "metadata": {},
   "source": [
    "Median filter applied - window: 1000 - level: 700 - slice: 150"
   ]
  },
  {
   "cell_type": "markdown",
   "id": "6b6f4564",
   "metadata": {},
   "source": [
    "The HeadGaussian sample dataset has Gaussian noise and the gaussian filter seems to work slightly better. Although the median filter could remove the Gaussian noise reletivly well, however, the Gaussian filter preserves the contrast and details in the image better than the median filter because it performs a distance weighted average for each pixel. The median filter works great in situations where there is obvious outliers in the image which is not the case in this sample dataset. "
   ]
  },
  {
   "cell_type": "markdown",
   "id": "ba55e7bc",
   "metadata": {},
   "source": [
    "## HeadSaltPepper with Gaussian filter"
   ]
  },
  {
   "cell_type": "code",
   "execution_count": 19,
   "id": "6ca40b13",
   "metadata": {},
   "outputs": [
    {
     "name": "stdout",
     "output_type": "stream",
     "text": [
      "image actor created\n",
      "gaussian filter applied\n",
      "filter actor created\n"
     ]
    },
    {
     "data": {
      "application/vnd.jupyter.widget-view+json": {
       "model_id": "0ea93dc528f14794ab5f61fed60a6c7c",
       "version_major": 2,
       "version_minor": 0
      },
      "text/plain": [
       "ViewInteractiveWidget(height=300, layout=Layout(height='auto', width='100%'), width=600)"
      ]
     },
     "metadata": {},
     "output_type": "display_data"
    }
   ],
   "source": [
    "head_saltpepper_g = vtk_pipeline(path=head_saltpepper_path, filetype='niftii',window=700, level=200, zslice=150, render_size=300)\n",
    "head_saltpepper_g.render(filter_type=\"gaussian\")\n",
    "ViewInteractiveWidget(head_saltpepper_g.render_window)"
   ]
  },
  {
   "cell_type": "markdown",
   "id": "3db9b453",
   "metadata": {},
   "source": [
    "Gaussian filter applied - window: 700 - level: 200 - slice: 150"
   ]
  },
  {
   "cell_type": "markdown",
   "id": "dc207b63",
   "metadata": {},
   "source": [
    "## HeadSaltPepper with Median filter"
   ]
  },
  {
   "cell_type": "code",
   "execution_count": 20,
   "id": "985697e7",
   "metadata": {},
   "outputs": [
    {
     "name": "stdout",
     "output_type": "stream",
     "text": [
      "image actor created\n",
      "median filter applied\n",
      "filter actor created\n"
     ]
    },
    {
     "data": {
      "application/vnd.jupyter.widget-view+json": {
       "model_id": "10ea4f5a96be494d934b2d83f5abac89",
       "version_major": 2,
       "version_minor": 0
      },
      "text/plain": [
       "ViewInteractiveWidget(height=300, layout=Layout(height='auto', width='100%'), width=600)"
      ]
     },
     "metadata": {},
     "output_type": "display_data"
    }
   ],
   "source": [
    "head_saltpepper_m = vtk_pipeline(path=head_saltpepper_path, filetype='niftii',window=700, level=200, zslice=150, render_size=300)\n",
    "head_saltpepper_m.render(filter_type=\"median\")\n",
    "ViewInteractiveWidget(head_saltpepper_m.render_window)"
   ]
  },
  {
   "cell_type": "markdown",
   "id": "e421a914",
   "metadata": {},
   "source": [
    "Median filter applied - window: 700 - level: 200 - slice: 150"
   ]
  },
  {
   "cell_type": "markdown",
   "id": "289e2ffe",
   "metadata": {},
   "source": [
    "On the head dataset with saltpepper noise, the median filter outperforms the gaussian filter significantly in removing the noise and it preserved the image contrast and edges well. The reason is that median filter applies the median of neighbor pixel values to each pixel which can remove the effect of outliers (salt and pepper noise with unusual high intensities in the image). The gaussian filter was not able to remove the saltpepper noise effectively because it takes the average of pixels(weighted by distance) and this is highly impacted by these outliers. "
   ]
  },
  {
   "cell_type": "markdown",
   "id": "df15f571",
   "metadata": {},
   "source": [
    "## Thorax with Gaussian filter"
   ]
  },
  {
   "cell_type": "code",
   "execution_count": 21,
   "id": "bf63907a",
   "metadata": {},
   "outputs": [
    {
     "name": "stdout",
     "output_type": "stream",
     "text": [
      "image actor created\n",
      "gaussian filter applied\n",
      "filter actor created\n"
     ]
    },
    {
     "data": {
      "application/vnd.jupyter.widget-view+json": {
       "model_id": "1c9e8225a0d348859496b6ebd80519e0",
       "version_major": 2,
       "version_minor": 0
      },
      "text/plain": [
       "ViewInteractiveWidget(layout=Layout(height='auto', width='100%'), width=1000)"
      ]
     },
     "metadata": {},
     "output_type": "display_data"
    }
   ],
   "source": [
    "thrx_g = vtk_pipeline(path=thrx_path, filetype='dicom', window=1000, level=40, zslice=150, render_size=500)\n",
    "thrx_g.render(filter_type='gaussian')\n",
    "ViewInteractiveWidget(thrx_g.render_window)"
   ]
  },
  {
   "cell_type": "markdown",
   "id": "bc31a78c",
   "metadata": {},
   "source": [
    "Gaussian filter applied - window: 1000 - level: 40 - slice: 150"
   ]
  },
  {
   "cell_type": "markdown",
   "id": "40682f50",
   "metadata": {},
   "source": [
    "## Thorax with Gaussian filter"
   ]
  },
  {
   "cell_type": "code",
   "execution_count": 26,
   "id": "a2b37ee0",
   "metadata": {},
   "outputs": [
    {
     "name": "stdout",
     "output_type": "stream",
     "text": [
      "image actor created\n",
      "median filter applied\n",
      "filter actor created\n"
     ]
    },
    {
     "data": {
      "application/vnd.jupyter.widget-view+json": {
       "model_id": "448ecdf8fc1e49f6a6a74d13bda70e5a",
       "version_major": 2,
       "version_minor": 0
      },
      "text/plain": [
       "ViewInteractiveWidget(layout=Layout(height='auto', width='100%'), width=1000)"
      ]
     },
     "metadata": {},
     "output_type": "display_data"
    }
   ],
   "source": [
    "thrx_m = vtk_pipeline(path=thrx_path, filetype='dicom', window=1000, level=40, zslice=150, render_size=500)\n",
    "thrx_m.render(filter_type='median')\n",
    "ViewInteractiveWidget(thrx_m.render_window)"
   ]
  },
  {
   "cell_type": "markdown",
   "id": "de49fb2f",
   "metadata": {},
   "source": [
    "Median filter applied - window: 1000 - level: 40 - slice: 150"
   ]
  },
  {
   "cell_type": "markdown",
   "id": "75fd3863",
   "metadata": {},
   "source": [
    "For the thorax dataset, the Gaussian filter is working better as it reduces the noise in the image while also maintains the details and edges very well. With the median filter, the image looks more blurry, and it also lost some of the details and contrast of the image."
   ]
  },
  {
   "cell_type": "markdown",
   "id": "86e3ef45",
   "metadata": {},
   "source": [
    "## User Input\n",
    "In this part, user can specify the dataset and type of filter they want to apply on it to see the results. window and level are specified for each one manually to get the best result. "
   ]
  },
  {
   "cell_type": "code",
   "execution_count": 25,
   "id": "f93178d4",
   "metadata": {},
   "outputs": [
    {
     "name": "stdout",
     "output_type": "stream",
     "text": [
      "Enter the number of dataset you want to apply the filters on! ( 1.headGaussian 2.headSaltPepper 3.Thorax ) \n",
      "2\n",
      "enter the filter you want to apply: Gaussian/Median\n",
      "Median\n",
      "image actor created\n",
      "median filter applied\n",
      "filter actor created\n"
     ]
    },
    {
     "data": {
      "application/vnd.jupyter.widget-view+json": {
       "model_id": "0cf174d3e9c246f6a5cbd4c22d3cdc78",
       "version_major": 2,
       "version_minor": 0
      },
      "text/plain": [
       "ViewInteractiveWidget(height=300, layout=Layout(height='auto', width='100%'), width=600)"
      ]
     },
     "metadata": {},
     "output_type": "display_data"
    }
   ],
   "source": [
    "dataset = input(\"Enter the number of dataset you want to apply the filters on! ( 1.headGaussian 2.headSaltPepper 3.Thorax ) \\n\")\n",
    "filter_type = input(\"enter the filter you want to apply: Gaussian/Median\\n\").lower()\n",
    "if dataset == \"1\":\n",
    "    dataset_path = head_gauss_path\n",
    "    file_type = \"niftii\"\n",
    "    w=1000\n",
    "    l=700\n",
    "    rs = 300\n",
    "elif dataset == \"2\":\n",
    "    dataset_path = head_saltpepper_path\n",
    "    file_type = \"niftii\"\n",
    "    w=700\n",
    "    l=200\n",
    "    rs = 300\n",
    "elif dataset == \"3\":\n",
    "    dataset_path = thrx_path\n",
    "    file_type = \"dicom\"\n",
    "    w=1000\n",
    "    l=40\n",
    "    rs = 500\n",
    "else:\n",
    "    print(\"Invaild input. please enter one of the available options.\")\n",
    "    \n",
    "obj = vtk_pipeline(path = dataset_path, filetype=file_type, window= w, level= l, zslice= 150, render_size= rs)\n",
    "obj.render(filter_type = filter_type)\n",
    "ViewInteractiveWidget(obj.render_window)"
   ]
  },
  {
   "cell_type": "code",
   "execution_count": null,
   "id": "e3e74abd",
   "metadata": {},
   "outputs": [],
   "source": []
  }
 ],
 "metadata": {
  "kernelspec": {
   "display_name": "mdsc689-03",
   "language": "python",
   "name": "mdsc689-03"
  },
  "language_info": {
   "codemirror_mode": {
    "name": "ipython",
    "version": 3
   },
   "file_extension": ".py",
   "mimetype": "text/x-python",
   "name": "python",
   "nbconvert_exporter": "python",
   "pygments_lexer": "ipython3",
   "version": "3.8.15"
  }
 },
 "nbformat": 4,
 "nbformat_minor": 5
}
