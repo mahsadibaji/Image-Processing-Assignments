{
 "cells": [
  {
   "cell_type": "markdown",
   "id": "ce2e39bf",
   "metadata": {},
   "source": [
    "### Note!\n",
    "you have to install ipywidgets using `pip install ipywidgets`."
   ]
  },
  {
   "cell_type": "code",
   "execution_count": 6,
   "id": "2dafae85",
   "metadata": {},
   "outputs": [],
   "source": [
    "import numpy as np\n",
    "import vtk\n",
    "from vtk.util.numpy_support import vtk_to_numpy, numpy_to_vtk\n",
    "from ipyvtklink.viewer import ViewInteractiveWidget\n",
    "\n",
    "import ipywidgets as widgets\n",
    "from IPython.display import display"
   ]
  },
  {
   "cell_type": "code",
   "execution_count": 7,
   "id": "db075973",
   "metadata": {},
   "outputs": [],
   "source": [
    "hip_path = \"/Users/nathanneeteson/Library/CloudStorage/OneDrive-UniversityofCalgary/MDSC68903_ImageData/Hip\"\n",
    "thrx_path = \"/Users/nathanneeteson/Library/CloudStorage/OneDrive-UniversityofCalgary/MDSC68903_ImageData/Thorax\"\n",
    "head_path = \"/Users/nathanneeteson/Library/CloudStorage/OneDrive-UniversityofCalgary/MDSC68903_ImageData/head.nii\""
   ]
  },
  {
   "cell_type": "code",
   "execution_count": 8,
   "id": "3085ecc9",
   "metadata": {},
   "outputs": [],
   "source": [
    "class vtk_pipeline:\n",
    "    \n",
    "    def __init__(self, path, filetype, window, level, window_sg, level_sg, zslice, render_size = 300):\n",
    "        self.path = path\n",
    "        self.filetype = filetype\n",
    "        self.window = window\n",
    "        self.level = level\n",
    "        self.render_size = render_size\n",
    "        self.slice = zslice\n",
    "        \n",
    "        self.window_sg = window_sg\n",
    "        self.level_sg = level_sg\n",
    "\n",
    "        self.out, self.outport, self.dim, self.img_np = self.image_reader()\n",
    "                \n",
    "        self.resizers = {}\n",
    "        self.mappers = {}\n",
    "        self.actors = {}\n",
    "        \n",
    "        self.segmentation_color = (1.0, 0.0, 0.0) #RGB value\n",
    "        self.segmentation_opacity = 1.0\n",
    "        self.segmented_image = None\n",
    "        self.segmented_array = None\n",
    "        \n",
    "        self.renderer = None\n",
    "        self.render_window = None\n",
    "        self.interactor = None\n",
    "        \n",
    "    def image_reader(self):   \n",
    "        if self.filetype.lower() == 'dicom':  # Load a DICOM image from file into a vtk pipeline.\n",
    "            img_reader = vtk.vtkDICOMImageReader()\n",
    "            img_reader.SetDirectoryName(self.path)\n",
    "            img_reader.Update()\n",
    "            out = img_reader.GetOutput()\n",
    "            outport = img_reader.GetOutputPort()\n",
    "            dim = out.GetDimensions()\n",
    "            \n",
    "        elif self.filetype.lower() == 'niftii': # Load a NIFTI image from file into a vtk pipeline.\n",
    "            img_reader = vtk.vtkNIFTIImageReader()\n",
    "            img_reader.SetFileName(self.path)\n",
    "            img_reader.Update()\n",
    "            out = img_reader.GetOutput()\n",
    "            outport = img_reader.GetOutputPort()\n",
    "            dim = out.GetDimensions()\n",
    "            \n",
    "        img_np = vtk_to_numpy(out.GetPointData().GetScalars()).reshape(dim,order='F')\n",
    "        \n",
    "        print(\"image read\")\n",
    "        \n",
    "        return out, outport, dim, img_np\n",
    "        \n",
    "    def global_thresholder(self, lower, upper):\n",
    "        \n",
    "        segmentation_array = np.where((self.img_np >= lower) & (self.img_np <= upper), 1, 0)\n",
    "        print(\"segmentation done\")\n",
    "\n",
    "        return segmentation_array     \n",
    "    \n",
    "    def dilation(self, segment_arr):\n",
    "        kernel = np.ones((3,3,3))\n",
    "        kernel_size = kernel.shape[0]\n",
    "\n",
    "        padded = np.pad(segment_arr, [(1, 1), (1, 1), (1, 1)], mode='constant', constant_values = 0)\n",
    "        \n",
    "        output_array = np.zeros_like(segment_arr)\n",
    "        \n",
    "        print(\"start dilation\")\n",
    "        for (i, j, k), v in np.ndenumerate(segment_arr):\n",
    "            region = padded[i:i+kernel_size, j:j+kernel_size, k:k+kernel_size]\n",
    "            output_array[i, j, k] = np.max(kernel*region)\n",
    "\n",
    "        return output_array\n",
    "    \n",
    "    def erosion(self,arr):\n",
    "        kernel = np.ones((3,3,3))\n",
    "        kernel_size = kernel.shape[0]\n",
    "        \n",
    "        padded = np.pad(arr, [(1, 1), (1, 1), (1, 1)], mode='constant', constant_values = 0)\n",
    "        \n",
    "        output_array = np.zeros_like(arr)\n",
    "        print(\"start erosion\")\n",
    "        for (i, j, k), v in np.ndenumerate(arr):\n",
    "                region = padded[i:i+kernel_size, j:j+kernel_size, k:k+kernel_size]\n",
    "                output_array[i, j, k] = np.min(kernel*region)\n",
    "        \n",
    "        return output_array\n",
    "                    \n",
    "    def gaussian_filter(self):\n",
    "        dimensionality = 3\n",
    "        sd = 1.5\n",
    "        radius_factor = 1\n",
    "        \n",
    "        gaussian = vtk.vtkImageGaussianSmooth()\n",
    "        gaussian.SetDimensionality(dimensionality)\n",
    "        gaussian.SetStandardDeviation(sd)\n",
    "        gaussian.SetRadiusFactor(radius_factor)\n",
    "        gaussian.SetInputData(self.out)\n",
    "        gaussian.Update()\n",
    "        \n",
    "        return gaussian        \n",
    "        \n",
    "    def create_mousewheel_callbacks(self,mapper):\n",
    "        \n",
    "        def move_forward(obj=None,event=None):\n",
    "            mapper.SetZSlice(mapper.GetZSlice()+1)\n",
    "\n",
    "        def move_backward(obj=None,event=None):\n",
    "            mapper.SetZSlice(mapper.GetZSlice()-1)\n",
    "\n",
    "        return move_forward, move_backward\n",
    "    \n",
    "    def Keypress(self, obj, event):\n",
    "        \n",
    "        # Define keyboard commands\n",
    "        key = obj.GetKeySym()\n",
    "        if key == \"Up\":\n",
    "            self.segmentation_opacity = self.segmentation_opacity + 0.05\n",
    "            if self.segmentation_opacity > 1:\n",
    "                self.segmentation_opacity = 1.0\n",
    "        elif key == \"Down\":\n",
    "            self.segmentation_opacity = self.segmentation_opacity - 0.05\n",
    "            if self.segmentation_opacity < 0:\n",
    "                self.segmentation_opacity = 0.0\n",
    "\n",
    "        # Update window\n",
    "        self.actors[\"segmented\"].GetProperty().SetOpacity(self.segmentation_opacity)\n",
    "        pass\n",
    "    \n",
    "    def create_resizer_mapper_actor(self, data_output, window, level):\n",
    "\n",
    "        resizer = vtk.vtkImageResize()\n",
    "        resizer.SetInputData(data_output)\n",
    "        resizer.Update()\n",
    "    \n",
    "        original_dims = np.asarray(resizer.GetOutput().GetDimensions())\n",
    "        new_dims = list( (original_dims*(self.render_size/original_dims[0:1].max())).astype(int) )\n",
    "\n",
    "        resizer.SetOutputDimensions(*new_dims)\n",
    "\n",
    "        mapper = vtk.vtkImageMapper()\n",
    "        mapper.SetInputData(resizer.GetOutput())\n",
    "        mapper.SetColorWindow(window)\n",
    "        mapper.SetColorLevel(level)\n",
    "        mapper.SetZSlice(self.slice)\n",
    "\n",
    "        actor = vtk.vtkActor2D()\n",
    "        actor.SetMapper(mapper)\n",
    "\n",
    "        return resizer, mapper, actor\n",
    "            \n",
    "    def render(self, lower_bound, upper_bound, g_filter=False, dilation=True, erosion=False):\n",
    "        \n",
    "        self.resizers[\"image\"], self.mappers[\"image\"], self.actors['image'] = self.create_resizer_mapper_actor(self.out, self.window, self.level)\n",
    "        \n",
    "        if g_filter:\n",
    "            self.out = self.gaussian_filter().GetOutput()\n",
    "            self.img_np = vtk_to_numpy(self.out.GetPointData().GetScalars()).reshape(self.dim,order='F')\n",
    "            self.resizers[\"image\"], self.mappers[\"image\"], self.actors['image'] = self.create_resizer_mapper_actor(self.out, self.window, self.level)\n",
    "            \n",
    "        print('image mapper created')\n",
    "        \n",
    "        self.segmented_array = self.global_thresholder(lower_bound, upper_bound)\n",
    "        \n",
    "        if dilation:\n",
    "            self.segmented_array = self.dilation(self.segmented_array)\n",
    "            \n",
    "        if erosion:\n",
    "            self.segmented_array = self.erosion(self.segmented_array)\n",
    "        \n",
    "        self.segmented_image = vtk.vtkImageData()\n",
    "        self.segmented_image.DeepCopy(self.out) # here is how to copy a vtkImageData\n",
    "        self.segmented_image.GetPointData().SetScalars(numpy_to_vtk(num_array = self.segmented_array.ravel(order = 'F'), deep = True))\n",
    "        \n",
    "    \n",
    "        print(\"segmentation done.\")\n",
    "        \n",
    "        out_value = 0\n",
    "        in_value = 1\n",
    "        lookup_table = vtk.vtkLookupTable()\n",
    "        lookup_table.SetNumberOfTableValues(2)\n",
    "        lookup_table.SetRange(0.0, 1.0)\n",
    "        lookup_table.SetTableValue(out_value, 0.0, 0.0, 0.0, 0.0)  # label 0 is transparent\n",
    "        lookup_table.SetTableValue(in_value, *self.segmentation_color, self.segmentation_opacity)  # label 1 is red and opaque\n",
    "        lookup_table.Build()\n",
    "\n",
    "        # Color your segmentation\n",
    "        color_map = vtk.vtkImageMapToColors()\n",
    "        color_map.SetInputData(self.segmented_image)\n",
    "        color_map.SetLookupTable(lookup_table)\n",
    "        color_map.PassAlphaToOutputOn()\n",
    "        color_map.Update()\n",
    "        \n",
    "        \n",
    "        self.resizers[\"segmented\"], self.mappers[\"segmented\"], self.actors['segmented'] = self.create_resizer_mapper_actor(color_map.GetOutput(), self.window_sg, self.level_sg)\n",
    "\n",
    "\n",
    "        self.render_window = vtk.vtkRenderWindow()\n",
    "        self.render_window.SetOffScreenRendering(True)\n",
    "        self.render_window.SetSize(self.render_size, self.render_size)\n",
    "\n",
    "        self.renderer = vtk.vtkRenderer()\n",
    "        self.renderer.ResetCamera()       \n",
    "        self.render_window.AddRenderer(self.renderer)\n",
    "\n",
    "        self.interactor = vtk.vtkRenderWindowInteractor()\n",
    "        self.interactor.SetRenderWindow(self.render_window)\n",
    "        \n",
    "        for actor in self.actors.values():\n",
    "            self.renderer.AddActor(actor)\n",
    "            \n",
    "        \n",
    "        # add callbacks to the interactor\n",
    "        for mapper in self.mappers.values():\n",
    "            fwd, bwd = self.create_mousewheel_callbacks(mapper)\n",
    "            self.interactor.AddObserver('MouseWheelForwardEvent', fwd)\n",
    "            self.interactor.AddObserver('MouseWheelBackwardEvent', bwd)\n",
    "            self.interactor.AddObserver(\"KeyPressEvent\", self.Keypress)\n",
    "            \n",
    "        self.render_window.Render()\n",
    "        self.interactor.Initialize()"
   ]
  },
  {
   "cell_type": "markdown",
   "id": "9a25ebc2",
   "metadata": {},
   "source": [
    "# Experiment\n",
    "1. Gaussian filtering is applied on all three datasets\n",
    "2. Global Thresholding is applied on each dataset with appropriate bounds\n",
    "3. For head dataset, I applied closing operator. For thorax and head dataset, I just applied dilation(only because it takes so long to do both on these datasets!)"
   ]
  },
  {
   "cell_type": "markdown",
   "id": "132d9937",
   "metadata": {},
   "source": [
    "## Thorax\n",
    "Applied Gaussian Filtering, global threshold, and dilation"
   ]
  },
  {
   "cell_type": "code",
   "execution_count": 9,
   "id": "79e62e12",
   "metadata": {},
   "outputs": [
    {
     "name": "stdout",
     "output_type": "stream",
     "text": [
      "image read\n",
      "image mapper created\n",
      "segmentation done\n",
      "start dilation\n",
      "segmentation done.\n"
     ]
    },
    {
     "data": {
      "application/vnd.jupyter.widget-view+json": {
       "model_id": "eb08604d0fb54cbcb7a50e31b916d753",
       "version_major": 2,
       "version_minor": 0
      },
      "text/plain": [
       "ViewInteractiveWidget(layout=Layout(height='auto', width='100%'), width=500)"
      ]
     },
     "metadata": {},
     "output_type": "display_data"
    }
   ],
   "source": [
    "thorax = vtk_pipeline(path=thrx_path, filetype='dicom', window=1000, level=40, window_sg=1, level_sg=1, zslice=150, render_size=500)\n",
    "thorax.render(lower_bound=400, upper_bound=1000, g_filter=True, dilation=True, erosion=False)\n",
    "\n",
    "ViewInteractiveWidget(thorax.render_window)\n"
   ]
  },
  {
   "cell_type": "markdown",
   "id": "63316897",
   "metadata": {},
   "source": [
    "Thorax dataset - bone segmentation(lower_bound:400, upper_bound:1000) - window:1000, level:40, slice:150"
   ]
  },
  {
   "cell_type": "markdown",
   "id": "7d418de3",
   "metadata": {},
   "source": [
    "# Hip\n",
    "Applied Gaussian Filtering, global threshold, and dilation"
   ]
  },
  {
   "cell_type": "code",
   "execution_count": 10,
   "id": "a009f7fd",
   "metadata": {},
   "outputs": [
    {
     "name": "stdout",
     "output_type": "stream",
     "text": [
      "image read\n",
      "image mapper created\n",
      "segmentation done\n",
      "start dilation\n",
      "segmentation done.\n"
     ]
    },
    {
     "data": {
      "application/vnd.jupyter.widget-view+json": {
       "model_id": "cc69b9ba697444809a864fb0f707e68c",
       "version_major": 2,
       "version_minor": 0
      },
      "text/plain": [
       "ViewInteractiveWidget(layout=Layout(height='auto', width='100%'), width=500)"
      ]
     },
     "metadata": {},
     "output_type": "display_data"
    }
   ],
   "source": [
    "hip = vtk_pipeline(path=hip_path, filetype='dicom', window=400, level=40, window_sg=1, level_sg=1, zslice=150, render_size=500)\n",
    "hip.render(lower_bound=200, upper_bound=1500, g_filter=True, dilation=True, erosion=False)\n",
    "\n",
    "ViewInteractiveWidget(hip.render_window)"
   ]
  },
  {
   "cell_type": "markdown",
   "id": "ee1f7375",
   "metadata": {},
   "source": [
    "Hip dataset - bone segmentation (lower_bound:200, upper_bound:1500) with Gaussian filtering, global threshold, and dilation - window:400, level:40, slice:150"
   ]
  },
  {
   "cell_type": "markdown",
   "id": "4e15ccd2",
   "metadata": {},
   "source": [
    "# Head\n",
    "Applied Gaussian filtering, global threshold, dilation and erosion(closing)"
   ]
  },
  {
   "cell_type": "code",
   "execution_count": 11,
   "id": "680e2bc9",
   "metadata": {},
   "outputs": [
    {
     "name": "stdout",
     "output_type": "stream",
     "text": [
      "image read\n",
      "image mapper created\n",
      "segmentation done\n",
      "start dilation\n",
      "start erosion\n",
      "segmentation done.\n"
     ]
    },
    {
     "data": {
      "application/vnd.jupyter.widget-view+json": {
       "model_id": "d0fda0b67d9c40309b66daabd016b7b9",
       "version_major": 2,
       "version_minor": 0
      },
      "text/plain": [
       "ViewInteractiveWidget(height=300, layout=Layout(height='auto', width='100%'), width=300)"
      ]
     },
     "metadata": {},
     "output_type": "display_data"
    }
   ],
   "source": [
    "head = vtk_pipeline(path=head_path, filetype='niftii', window=700, level=200, window_sg=1, level_sg=1, render_size=300, zslice=150)\n",
    "\n",
    "head.render(lower_bound=500, upper_bound=900, g_filter=True, dilation=True, erosion=True)\n",
    "\n",
    "ViewInteractiveWidget(head.render_window)"
   ]
  },
  {
   "cell_type": "markdown",
   "id": "b4517ef8",
   "metadata": {},
   "source": [
    "Head dataset - White matter segmentation (lower_bound:500, upper_bound:900) with Gaussian filtering, global threshold, dilation and erosion(closing) - window:1000, level:50, slice:150"
   ]
  },
  {
   "cell_type": "markdown",
   "id": "bbbf9690",
   "metadata": {},
   "source": [
    "# User Input\n",
    "\n",
    "Here, you can choose what dataset you want to segment. You can specify window, level, slice, upper and lower bound for segmentation. You can choose if you want to apply Gaussian filtering or not. You can also choose whether you want to apply dilation, erosion, or both (for sake of simplicity, just closing operator)."
   ]
  },
  {
   "cell_type": "code",
   "execution_count": 12,
   "id": "71421919",
   "metadata": {},
   "outputs": [
    {
     "data": {
      "application/vnd.jupyter.widget-view+json": {
       "model_id": "65dfcd7cbd114c899f26f62fa0d80a15",
       "version_major": 2,
       "version_minor": 0
      },
      "text/plain": [
       "Dropdown(description='Image:', options=(('Head', '/Users/nathanneeteson/Library/CloudStorage/OneDrive-Universi…"
      ]
     },
     "metadata": {},
     "output_type": "display_data"
    },
    {
     "data": {
      "application/vnd.jupyter.widget-view+json": {
       "model_id": "3f7d8a7c133f4294924c947ff8b0e5f7",
       "version_major": 2,
       "version_minor": 0
      },
      "text/plain": [
       "Dropdown(description='File Type: ', index=1, options=('dicom', 'niftii'), value='niftii')"
      ]
     },
     "metadata": {},
     "output_type": "display_data"
    },
    {
     "data": {
      "application/vnd.jupyter.widget-view+json": {
       "model_id": "146d35c1309a4d8b9f442dd372500276",
       "version_major": 2,
       "version_minor": 0
      },
      "text/plain": [
       "IntText(value=700, description='Window:')"
      ]
     },
     "metadata": {},
     "output_type": "display_data"
    },
    {
     "data": {
      "application/vnd.jupyter.widget-view+json": {
       "model_id": "e3ccf24099bc4f6a9944b877abce41e8",
       "version_major": 2,
       "version_minor": 0
      },
      "text/plain": [
       "IntText(value=200, description='level:')"
      ]
     },
     "metadata": {},
     "output_type": "display_data"
    },
    {
     "data": {
      "application/vnd.jupyter.widget-view+json": {
       "model_id": "5fe0309b956641fa896d551cfb49c53d",
       "version_major": 2,
       "version_minor": 0
      },
      "text/plain": [
       "IntText(value=150, description='slice:')"
      ]
     },
     "metadata": {},
     "output_type": "display_data"
    },
    {
     "data": {
      "application/vnd.jupyter.widget-view+json": {
       "model_id": "187a1a8bf147441b999c25afbb990ea0",
       "version_major": 2,
       "version_minor": 0
      },
      "text/plain": [
       "IntText(value=500, description='lower bound for segmentation:')"
      ]
     },
     "metadata": {},
     "output_type": "display_data"
    },
    {
     "data": {
      "application/vnd.jupyter.widget-view+json": {
       "model_id": "d6b2d890addc4c9c80a347fa65fbc950",
       "version_major": 2,
       "version_minor": 0
      },
      "text/plain": [
       "IntText(value=900, description='upper bound for segmentation:')"
      ]
     },
     "metadata": {},
     "output_type": "display_data"
    },
    {
     "data": {
      "application/vnd.jupyter.widget-view+json": {
       "model_id": "55a74cc8042e488e9a745a5ff7818eeb",
       "version_major": 2,
       "version_minor": 0
      },
      "text/plain": [
       "Checkbox(value=True, description='apply Gaussian filter')"
      ]
     },
     "metadata": {},
     "output_type": "display_data"
    },
    {
     "data": {
      "application/vnd.jupyter.widget-view+json": {
       "model_id": "632e42ba92aa442894cae1290b28982f",
       "version_major": 2,
       "version_minor": 0
      },
      "text/plain": [
       "Checkbox(value=True, description='apply dilation')"
      ]
     },
     "metadata": {},
     "output_type": "display_data"
    },
    {
     "data": {
      "application/vnd.jupyter.widget-view+json": {
       "model_id": "eb4ac59996a74f328f3835a7c1a13e1e",
       "version_major": 2,
       "version_minor": 0
      },
      "text/plain": [
       "Checkbox(value=True, description='apply erosion')"
      ]
     },
     "metadata": {},
     "output_type": "display_data"
    }
   ],
   "source": [
    "image_options = [ ('Head', head_path), ('Hip', hip_path), ('Thorax', thrx_path)]\n",
    "image = widgets.Dropdown(\n",
    "    options=image_options,\n",
    "    description='Image:',\n",
    ")\n",
    "filetype = widgets.Dropdown(\n",
    "        options = ['dicom','niftii'],\n",
    "        value = 'niftii',\n",
    "        description = 'File Type: '\n",
    ")\n",
    "window = widgets.IntText(description=\"Window:\", value=700)\n",
    "level =  widgets.IntText(description=\"level:\", value=200)\n",
    "zslice = widgets.IntText(description=\"slice:\", value=150)\n",
    "lower = widgets.IntText(description=\"lower bound for segmentation:\", value=500)\n",
    "upper = widgets.IntText(description=\"upper bound for segmentation:\", value=900)\n",
    "tofilter = widgets.Checkbox(\n",
    "    value=True,\n",
    "    description='apply Gaussian filter',\n",
    ")\n",
    "\n",
    "dilation = widgets.Checkbox(\n",
    "    value=True,\n",
    "    description='apply dilation',\n",
    ")\n",
    "erosion = widgets.Checkbox(\n",
    "    value=True,\n",
    "    description='apply erosion',\n",
    ")\n",
    "\n",
    "display(image, filetype, window, level, zslice, lower, upper, tofilter, dilation, erosion)"
   ]
  },
  {
   "cell_type": "code",
   "execution_count": 13,
   "id": "eb48aff9",
   "metadata": {},
   "outputs": [
    {
     "name": "stdout",
     "output_type": "stream",
     "text": [
      "image read\n",
      "image mapper created\n",
      "segmentation done\n",
      "start dilation\n",
      "start erosion\n",
      "segmentation done.\n"
     ]
    },
    {
     "data": {
      "application/vnd.jupyter.widget-view+json": {
       "model_id": "aebc55f6f96444f5b1dccef487721355",
       "version_major": 2,
       "version_minor": 0
      },
      "text/plain": [
       "ViewInteractiveWidget(layout=Layout(height='auto', width='100%'), width=500)"
      ]
     },
     "metadata": {},
     "output_type": "display_data"
    }
   ],
   "source": [
    "obj = vtk_pipeline(path=image.value, filetype=filetype.value, window=window.value, level=level.value, zslice=zslice.value, window_sg=1, level_sg=1, render_size=500)\n",
    "\n",
    "obj.render(lower_bound=lower.value, upper_bound=upper.value, g_filter=tofilter.value, dilation= dilation.value, erosion= erosion.value)\n",
    "\n",
    "ViewInteractiveWidget(obj.render_window)"
   ]
  },
  {
   "cell_type": "code",
   "execution_count": null,
   "id": "27a7a901",
   "metadata": {},
   "outputs": [],
   "source": []
  },
  {
   "cell_type": "code",
   "execution_count": null,
   "id": "200fe329",
   "metadata": {},
   "outputs": [],
   "source": []
  },
  {
   "cell_type": "code",
   "execution_count": null,
   "id": "7ac07db1",
   "metadata": {},
   "outputs": [],
   "source": []
  }
 ],
 "metadata": {
  "kernelspec": {
   "display_name": "Python 3 (ipykernel)",
   "language": "python",
   "name": "python3"
  },
  "language_info": {
   "codemirror_mode": {
    "name": "ipython",
    "version": 3
   },
   "file_extension": ".py",
   "mimetype": "text/x-python",
   "name": "python",
   "nbconvert_exporter": "python",
   "pygments_lexer": "ipython3",
   "version": "3.7.12"
  }
 },
 "nbformat": 4,
 "nbformat_minor": 5
}
