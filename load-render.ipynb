{
 "cells": [
  {
   "cell_type": "code",
   "execution_count": 1,
   "id": "183d4880",
   "metadata": {},
   "outputs": [],
   "source": [
    "import vtk\n",
    "from ipyvtklink.viewer import ViewInteractiveWidget"
   ]
  },
  {
   "cell_type": "markdown",
   "id": "327e70eb",
   "metadata": {},
   "source": [
    "## VTK Pipeline\n",
    "\n",
    "I created a class called `vtk_pipeline` to organize all the variables and function for rendering a 2D image from Dicom or Niftii file in one place. You can simply create an instance of this class and specify the path and type of the files as well as window and level that must be used for rendering the images. "
   ]
  },
  {
   "cell_type": "code",
   "execution_count": 2,
   "id": "0fda3d4d",
   "metadata": {},
   "outputs": [],
   "source": [
    "class vtk_pipeline:\n",
    "    \n",
    "    \n",
    "    def __init__(self, path, filetype,window, level):\n",
    "        self.path = path\n",
    "        self.filetype = filetype\n",
    "        self.window = window\n",
    "        self.level = level\n",
    "        \n",
    "        self.out = None\n",
    "        self.dim = None\n",
    "        self.image_reader()\n",
    "        \n",
    "        self.mapper = None\n",
    "        self.actor = None\n",
    "        self.renderer = None\n",
    "        self.render_window= None\n",
    "        self.interactor = None\n",
    "        \n",
    "    def image_reader(self):   \n",
    "        if self.filetype.lower() == 'dicom':  # Load a DICOM image from file into a vtk pipeline.\n",
    "            img_reader = vtk.vtkDICOMImageReader()\n",
    "            img_reader.SetDirectoryName(self.path)\n",
    "            img_reader.Update()\n",
    "            self.out = img_reader.GetOutput()\n",
    "            self.dim = self.out.GetDimensions()\n",
    "        elif self.filetype.lower() == 'niftii': # Load a NIFTI image from file into a vtk pipeline.\n",
    "            img_reader = vtk.vtkNIFTIImageReader()\n",
    "            img_reader.SetFileName(self.path)\n",
    "            img_reader.Update()\n",
    "            self.out = img_reader.GetOutput()\n",
    "            self.dim = self.out.GetDimensions()\n",
    "\n",
    "    def slice_navigator(self, obj, eid, *args, **kwargs): #callback function used for navigating through slices using mouse\n",
    "        if eid == \"MouseWheelForwardEvent\":\n",
    "            slice_num = self.mapper.GetZSlice()\n",
    "            self.mapper.SetZSlice(slice_num+1)\n",
    "        elif eid == \"MouseWheelBackwardEvent\":\n",
    "            slice_num = self.mapper.GetZSlice()\n",
    "            self.mapper.SetZSlice(slice_num-1)\n",
    "            \n",
    "            \n",
    "    def render(self):\n",
    "        self.mapper = vtk.vtkImageMapper()\n",
    "        self.mapper.SetColorWindow(self.window) #the lower, the brighter the image would be (more contrast)\n",
    "        self.mapper.SetColorLevel(self.level) #setting the level\n",
    "        self.mapper.SetZSlice(150) #setting the default slice to show (change it later by observer)\n",
    "        self.mapper.SetInputData(self.out)\n",
    "\n",
    "        self.actor = vtk.vtkActor2D()\n",
    "        self.actor.SetMapper(self.mapper)\n",
    "\n",
    "        self.renderer = vtk.vtkRenderer()\n",
    "        self.renderer.AddActor(self.actor) #Add the actor to the scene\n",
    "        self.renderer.ResetCamera()\n",
    "\n",
    "\n",
    "\n",
    "        self.render_window = vtk.vtkRenderWindow()\n",
    "        self.render_window.SetOffScreenRendering(True)\n",
    "        self.render_window.SetSize(512,512) #set a constant size for render window\n",
    "        self.render_window.AddRenderer(self.renderer)\n",
    "\n",
    "        self.interactor = vtk.vtkRenderWindowInteractor()\n",
    "        self.interactor.SetRenderWindow(self.render_window)\n",
    "        self.interactor.SetInteractorStyle(vtk.vtkInteractorStyleImage())\n",
    "        self.interactor.AddObserver(\"MouseWheelForwardEvent\", self.slice_navigator)\n",
    "        self.interactor.AddObserver(\"MouseWheelBackwardEvent\", self.slice_navigator)"
   ]
  },
  {
   "cell_type": "code",
   "execution_count": 3,
   "id": "0574be78",
   "metadata": {},
   "outputs": [],
   "source": [
    "hip_path = \"/Users/nathanneeteson/Library/CloudStorage/OneDrive-UniversityofCalgary/MDSC68903_ImageData/Hip\"\n",
    "thrx_path = \"/Users/nathanneeteson/Library/CloudStorage/OneDrive-UniversityofCalgary/MDSC68903_ImageData/Thorax\"\n",
    "head_path = \"/Users/nathanneeteson/Library/CloudStorage/OneDrive-UniversityofCalgary/MDSC68903_ImageData/head.nii\""
   ]
  },
  {
   "cell_type": "markdown",
   "id": "926c3639",
   "metadata": {},
   "source": [
    "## Render Hip Dicom"
   ]
  },
  {
   "cell_type": "code",
   "execution_count": 4,
   "id": "1928e5e8",
   "metadata": {},
   "outputs": [
    {
     "data": {
      "application/vnd.jupyter.widget-view+json": {
       "model_id": "a0558ce2e40a48489f43b37700090590",
       "version_major": 2,
       "version_minor": 0
      },
      "text/plain": [
       "ViewInteractiveWidget(height=512, layout=Layout(height='auto', width='100%'), width=512)"
      ]
     },
     "metadata": {},
     "output_type": "display_data"
    }
   ],
   "source": [
    "hip = vtk_pipeline(path=hip_path,filetype='dicom',window=400,level=40)\n",
    "hip.render()\n",
    "ViewInteractiveWidget(hip.render_window)"
   ]
  },
  {
   "cell_type": "markdown",
   "id": "425abf92",
   "metadata": {},
   "source": [
    "**2D slice render from Hip sample dataset** Start Slice: 150, Window: 400, Level: 40"
   ]
  },
  {
   "cell_type": "markdown",
   "id": "bb78b805",
   "metadata": {},
   "source": [
    "## Render Thorax Dicom"
   ]
  },
  {
   "cell_type": "code",
   "execution_count": 5,
   "id": "e175643b",
   "metadata": {},
   "outputs": [
    {
     "data": {
      "application/vnd.jupyter.widget-view+json": {
       "model_id": "0666d68de5414ef5ad67df80830f99cb",
       "version_major": 2,
       "version_minor": 0
      },
      "text/plain": [
       "ViewInteractiveWidget(height=512, layout=Layout(height='auto', width='100%'), width=512)"
      ]
     },
     "metadata": {},
     "output_type": "display_data"
    }
   ],
   "source": [
    "thorax = vtk_pipeline(path=thrx_path, filetype='dicom', window=2000, level=40)\n",
    "\n",
    "thorax.render()\n",
    "\n",
    "ViewInteractiveWidget(thorax.render_window)"
   ]
  },
  {
   "cell_type": "markdown",
   "id": "33069893",
   "metadata": {},
   "source": [
    "**2D slice render from Thorax sample dataset** Start Slice: 150, Window: 2000, Level: 40"
   ]
  },
  {
   "cell_type": "markdown",
   "id": "9a9a1ca4",
   "metadata": {},
   "source": [
    "## Render Head Niftii"
   ]
  },
  {
   "cell_type": "code",
   "execution_count": 6,
   "id": "b4da20e1",
   "metadata": {},
   "outputs": [
    {
     "data": {
      "application/vnd.jupyter.widget-view+json": {
       "model_id": "2688fb72a8e34313a7c07c31672656d2",
       "version_major": 2,
       "version_minor": 0
      },
      "text/plain": [
       "ViewInteractiveWidget(height=512, layout=Layout(height='auto', width='100%'), width=512)"
      ]
     },
     "metadata": {},
     "output_type": "display_data"
    }
   ],
   "source": [
    "head = vtk_pipeline(path=head_path, filetype='niftii', window= 700, level= 250)\n",
    "head.render()\n",
    "\n",
    "ViewInteractiveWidget(head.render_window)"
   ]
  },
  {
   "cell_type": "markdown",
   "id": "447338fa",
   "metadata": {},
   "source": [
    "**2D slice render from Hip sample dataset** Start Slice: 150, Window: 700, Level: 250"
   ]
  },
  {
   "cell_type": "code",
   "execution_count": null,
   "id": "a041d5f2",
   "metadata": {},
   "outputs": [],
   "source": []
  }
 ],
 "metadata": {
  "kernelspec": {
   "display_name": "Python 3 (ipykernel)",
   "language": "python",
   "name": "python3"
  },
  "language_info": {
   "codemirror_mode": {
    "name": "ipython",
    "version": 3
   },
   "file_extension": ".py",
   "mimetype": "text/x-python",
   "name": "python",
   "nbconvert_exporter": "python",
   "pygments_lexer": "ipython3",
   "version": "3.7.12"
  }
 },
 "nbformat": 4,
 "nbformat_minor": 5
}
